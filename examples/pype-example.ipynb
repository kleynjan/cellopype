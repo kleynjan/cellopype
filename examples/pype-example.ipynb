{
 "cells": [
  {
   "cell_type": "code",
   "execution_count": 1,
   "id": "93203c0d",
   "metadata": {},
   "outputs": [],
   "source": [
    "import pandas as pd\n",
    "import sys\n",
    "sys.path.append('../src')\n",
    "import pprint\n",
    "pretty = pprint.PrettyPrinter(indent=4)\n",
    "from cellopype import Cell, Pype"
   ]
  },
  {
   "cell_type": "code",
   "execution_count": 13,
   "id": "b27da0d6",
   "metadata": {},
   "outputs": [],
   "source": [
    "pp = Pype()\n",
    "\n",
    "pp.cell_a = Cell(recalc=lambda: [1,2,3])\n",
    "pp.cell_b = Cell(recalc=lambda: [4,5,6])\n",
    "\n",
    "# note that the reference to the source cell instances includes the pype container:\n",
    "# (allowing references to cells in other pypes)\n",
    "pp.cell_c = Cell(recalc=lambda a, b: a+b, sources=[pp.cell_a, pp.cell_b])"
   ]
  },
  {
   "cell_type": "code",
   "execution_count": 14,
   "id": "f75b8f56",
   "metadata": {},
   "outputs": [
    {
     "data": {
      "text/plain": [
       "dict_keys(['cell_a', 'cell_b', 'cell_c'])"
      ]
     },
     "execution_count": 14,
     "metadata": {},
     "output_type": "execute_result"
    }
   ],
   "source": [
    "pp.keys()"
   ]
  },
  {
   "cell_type": "code",
   "execution_count": 18,
   "id": "402b347c",
   "metadata": {},
   "outputs": [
    {
     "data": {
      "text/plain": [
       "<cellopype.cell.Cell at 0x7fefc0032520>"
      ]
     },
     "execution_count": 18,
     "metadata": {},
     "output_type": "execute_result"
    }
   ],
   "source": [
    "pp.cell_a"
   ]
  },
  {
   "cell_type": "code",
   "execution_count": 19,
   "id": "f0741aa4",
   "metadata": {},
   "outputs": [
    {
     "data": {
      "text/plain": [
       "[1, 2, 3, 4, 5, 6]"
      ]
     },
     "execution_count": 19,
     "metadata": {},
     "output_type": "execute_result"
    }
   ],
   "source": [
    "pp.cell_c.value"
   ]
  },
  {
   "cell_type": "code",
   "execution_count": 23,
   "id": "92ce0d42",
   "metadata": {},
   "outputs": [
    {
     "data": {
      "text/plain": [
       "'cell_a'"
      ]
     },
     "execution_count": 23,
     "metadata": {},
     "output_type": "execute_result"
    }
   ],
   "source": [
    "# The cell name is also added back to the cell:\n",
    "pp.cell_a.name   # handy for debugging if a cell can identity itself back to you"
   ]
  },
  {
   "cell_type": "code",
   "execution_count": 24,
   "id": "34356432",
   "metadata": {},
   "outputs": [
    {
     "data": {
      "text/plain": [
       "dict_keys(['cell_a', 'cell_b', 'cell_c'])"
      ]
     },
     "execution_count": 24,
     "metadata": {},
     "output_type": "execute_result"
    }
   ],
   "source": [
    "pp.keys()"
   ]
  },
  {
   "cell_type": "code",
   "execution_count": 25,
   "id": "a91169be",
   "metadata": {},
   "outputs": [
    {
     "data": {
      "text/plain": [
       "{'cell_a': <cellopype.cell.Cell at 0x7fefc0032520>,\n",
       " 'cell_b': <cellopype.cell.Cell at 0x7fefc00323d0>,\n",
       " 'cell_c': <cellopype.cell.Cell at 0x7fefc0032370>}"
      ]
     },
     "execution_count": 25,
     "metadata": {},
     "output_type": "execute_result"
    }
   ],
   "source": [
    "pp.cells"
   ]
  },
  {
   "cell_type": "code",
   "execution_count": 26,
   "id": "b133b9de",
   "metadata": {},
   "outputs": [],
   "source": [
    "pp.recalc_all()"
   ]
  },
  {
   "cell_type": "code",
   "execution_count": 32,
   "id": "f28a99e4",
   "metadata": {},
   "outputs": [],
   "source": [
    "# recalculate and dump all cell values to a list of dicts \n",
    "pype_dict_list = pp.dump_values()"
   ]
  },
  {
   "cell_type": "code",
   "execution_count": 33,
   "id": "8acc2385",
   "metadata": {
    "scrolled": false
   },
   "outputs": [
    {
     "name": "stdout",
     "output_type": "stream",
     "text": [
      "[   {'name': 'cell_a', 'value': [1, 2, 3]},\n",
      "    {'name': 'cell_b', 'value': [4, 5, 6]},\n",
      "    {'name': 'cell_c', 'value': [1, 2, 3, 4, 5, 6]}]\n"
     ]
    }
   ],
   "source": [
    "pretty.pprint(pype_dict_list)"
   ]
  },
  {
   "cell_type": "code",
   "execution_count": null,
   "id": "c0fabb2d",
   "metadata": {},
   "outputs": [],
   "source": []
  },
  {
   "cell_type": "code",
   "execution_count": 29,
   "id": "3c7eadec",
   "metadata": {},
   "outputs": [],
   "source": [
    "# modify the local cell value in pp\n",
    "pp.cell_a.value=[9,9,9]"
   ]
  },
  {
   "cell_type": "code",
   "execution_count": 30,
   "id": "63410903",
   "metadata": {},
   "outputs": [
    {
     "data": {
      "text/plain": [
       "[9, 9, 9]"
      ]
     },
     "execution_count": 30,
     "metadata": {},
     "output_type": "execute_result"
    }
   ],
   "source": [
    "# show the local cell value in pp has changed\n",
    "pp.cell_a.value"
   ]
  },
  {
   "cell_type": "code",
   "execution_count": 35,
   "id": "e012601d",
   "metadata": {},
   "outputs": [
    {
     "data": {
      "text/plain": [
       "[1, 2, 3]"
      ]
     },
     "execution_count": 35,
     "metadata": {},
     "output_type": "execute_result"
    }
   ],
   "source": [
    "# restore values from the dump\n",
    "pp.load_values(pype_dict_list)\n",
    "pp.cell_a.value"
   ]
  },
  {
   "cell_type": "code",
   "execution_count": 14,
   "id": "624235f9",
   "metadata": {},
   "outputs": [],
   "source": [
    "# if you want to dump & restore the entire pype, including recalc logic & handlers:\n",
    "import dill  # not pickle, because lambdas\n",
    "\n",
    "with open('pype_p.dill', 'wb') as file:\n",
    "    dill.dump(pp, file)\n",
    "with open('pype_p.dill', 'rb') as inp:\n",
    "    pp2 = dill.load(inp)"
   ]
  },
  {
   "cell_type": "code",
   "execution_count": 16,
   "id": "570979c8",
   "metadata": {},
   "outputs": [
    {
     "data": {
      "text/plain": [
       "[<cellopype.cell.Cell at 0x7fcc3000d370>,\n",
       " <cellopype.cell.Cell at 0x7fcc600d9880>]"
      ]
     },
     "execution_count": 16,
     "metadata": {},
     "output_type": "execute_result"
    }
   ],
   "source": [
    "# the pp2 pype is now a full & independent copy of pp\n",
    "pp2.c.sources"
   ]
  },
  {
   "cell_type": "code",
   "execution_count": 18,
   "id": "16cc460a",
   "metadata": {},
   "outputs": [
    {
     "data": {
      "text/html": [
       "<div>\n",
       "<style scoped>\n",
       "    .dataframe tbody tr th:only-of-type {\n",
       "        vertical-align: middle;\n",
       "    }\n",
       "\n",
       "    .dataframe tbody tr th {\n",
       "        vertical-align: top;\n",
       "    }\n",
       "\n",
       "    .dataframe thead th {\n",
       "        text-align: right;\n",
       "    }\n",
       "</style>\n",
       "<table border=\"1\" class=\"dataframe\">\n",
       "  <thead>\n",
       "    <tr style=\"text-align: right;\">\n",
       "      <th></th>\n",
       "      <th>value</th>\n",
       "    </tr>\n",
       "  </thead>\n",
       "  <tbody>\n",
       "    <tr>\n",
       "      <th>0</th>\n",
       "      <td>11</td>\n",
       "    </tr>\n",
       "    <tr>\n",
       "      <th>1</th>\n",
       "      <td>22</td>\n",
       "    </tr>\n",
       "    <tr>\n",
       "      <th>2</th>\n",
       "      <td>33</td>\n",
       "    </tr>\n",
       "  </tbody>\n",
       "</table>\n",
       "</div>"
      ],
      "text/plain": [
       "   value\n",
       "0     11\n",
       "1     22\n",
       "2     33"
      ]
     },
     "execution_count": 18,
     "metadata": {},
     "output_type": "execute_result"
    }
   ],
   "source": [
    "# test recalc_handlers to verify those have been restored\n",
    "pp2.c.recalc_handler(pp2.a.value, pp2.b.value)"
   ]
  },
  {
   "cell_type": "code",
   "execution_count": null,
   "id": "d0fe924e",
   "metadata": {},
   "outputs": [],
   "source": []
  }
 ],
 "metadata": {
  "kernelspec": {
   "display_name": "Python [conda env:rolemining]",
   "language": "python",
   "name": "conda-env-rolemining-py"
  },
  "language_info": {
   "codemirror_mode": {
    "name": "ipython",
    "version": 3
   },
   "file_extension": ".py",
   "mimetype": "text/x-python",
   "name": "python",
   "nbconvert_exporter": "python",
   "pygments_lexer": "ipython3",
   "version": "3.8.5"
  }
 },
 "nbformat": 4,
 "nbformat_minor": 5
}
