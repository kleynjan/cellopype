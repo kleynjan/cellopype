{
 "cells": [
  {
   "cell_type": "code",
   "execution_count": 6,
   "id": "7519bd94",
   "metadata": {},
   "outputs": [],
   "source": [
    "import pandas as pd\n",
    "import sys\n",
    "sys.path.append('../src')\n",
    "from cellopype import Cell, Pype"
   ]
  },
  {
   "cell_type": "code",
   "execution_count": 7,
   "id": "6b8a733c",
   "metadata": {},
   "outputs": [],
   "source": [
    "pp = Pype()\n",
    "dfA = pd.DataFrame([1, 2, 3], columns=[\"value\"])\n",
    "dfB = pd.DataFrame([10, 20, 30], columns=[\"value\"])\n",
    "\n",
    "pp.a = Cell(recalc=lambda: dfA)\n",
    "pp.b = Cell(recalc=lambda: dfB)\n",
    "pp.c = Cell(recalc=pd.DataFrame.add, sources=[pp.a, pp.b])"
   ]
  },
  {
   "cell_type": "code",
   "execution_count": null,
   "id": "abffa0e3",
   "metadata": {},
   "outputs": [],
   "source": []
  },
  {
   "cell_type": "code",
   "execution_count": 8,
   "id": "3a600068",
   "metadata": {},
   "outputs": [
    {
     "data": {
      "text/plain": [
       "'a'"
      ]
     },
     "execution_count": 8,
     "metadata": {},
     "output_type": "execute_result"
    }
   ],
   "source": [
    "# cells in a Pype get their name as an attribute on the cell\n",
    "pp.a.name"
   ]
  },
  {
   "cell_type": "code",
   "execution_count": 9,
   "id": "66af97ca",
   "metadata": {},
   "outputs": [],
   "source": [
    "pp.a._value"
   ]
  },
  {
   "cell_type": "code",
   "execution_count": 10,
   "id": "a4857660",
   "metadata": {},
   "outputs": [],
   "source": [
    "# recalculate and dump all cell values in pp \n",
    "lits = pp.dump_values()"
   ]
  },
  {
   "cell_type": "code",
   "execution_count": 11,
   "id": "2c04ef4e",
   "metadata": {
    "scrolled": false
   },
   "outputs": [
    {
     "data": {
      "text/plain": [
       "[{'name': 'a',\n",
       "  'value':    value\n",
       "  0      1\n",
       "  1      2\n",
       "  2      3},\n",
       " {'name': 'b',\n",
       "  'value':    value\n",
       "  0     10\n",
       "  1     20\n",
       "  2     30},\n",
       " {'name': 'c',\n",
       "  'value':    value\n",
       "  0     11\n",
       "  1     22\n",
       "  2     33}]"
      ]
     },
     "execution_count": 11,
     "metadata": {},
     "output_type": "execute_result"
    }
   ],
   "source": [
    "# lits is a list of dicts\n",
    "# NOTE: dataframe and series values are COPIED by dump_values for pseudo-immutability\n",
    "lits"
   ]
  },
  {
   "cell_type": "code",
   "execution_count": 12,
   "id": "063aad0e",
   "metadata": {},
   "outputs": [],
   "source": [
    "pp.a._value.loc[0,'value']=99"
   ]
  },
  {
   "cell_type": "code",
   "execution_count": 13,
   "id": "87f5b849",
   "metadata": {},
   "outputs": [
    {
     "data": {
      "text/html": [
       "<div>\n",
       "<style scoped>\n",
       "    .dataframe tbody tr th:only-of-type {\n",
       "        vertical-align: middle;\n",
       "    }\n",
       "\n",
       "    .dataframe tbody tr th {\n",
       "        vertical-align: top;\n",
       "    }\n",
       "\n",
       "    .dataframe thead th {\n",
       "        text-align: right;\n",
       "    }\n",
       "</style>\n",
       "<table border=\"1\" class=\"dataframe\">\n",
       "  <thead>\n",
       "    <tr style=\"text-align: right;\">\n",
       "      <th></th>\n",
       "      <th>value</th>\n",
       "    </tr>\n",
       "  </thead>\n",
       "  <tbody>\n",
       "    <tr>\n",
       "      <th>0</th>\n",
       "      <td>99</td>\n",
       "    </tr>\n",
       "    <tr>\n",
       "      <th>1</th>\n",
       "      <td>2</td>\n",
       "    </tr>\n",
       "    <tr>\n",
       "      <th>2</th>\n",
       "      <td>3</td>\n",
       "    </tr>\n",
       "  </tbody>\n",
       "</table>\n",
       "</div>"
      ],
      "text/plain": [
       "   value\n",
       "0     99\n",
       "1      2\n",
       "2      3"
      ]
     },
     "execution_count": 13,
     "metadata": {},
     "output_type": "execute_result"
    }
   ],
   "source": [
    "# show the local cell value in pp has changed\n",
    "pp.a._value"
   ]
  },
  {
   "cell_type": "code",
   "execution_count": 14,
   "id": "6714a281",
   "metadata": {},
   "outputs": [
    {
     "data": {
      "text/html": [
       "<div>\n",
       "<style scoped>\n",
       "    .dataframe tbody tr th:only-of-type {\n",
       "        vertical-align: middle;\n",
       "    }\n",
       "\n",
       "    .dataframe tbody tr th {\n",
       "        vertical-align: top;\n",
       "    }\n",
       "\n",
       "    .dataframe thead th {\n",
       "        text-align: right;\n",
       "    }\n",
       "</style>\n",
       "<table border=\"1\" class=\"dataframe\">\n",
       "  <thead>\n",
       "    <tr style=\"text-align: right;\">\n",
       "      <th></th>\n",
       "      <th>value</th>\n",
       "    </tr>\n",
       "  </thead>\n",
       "  <tbody>\n",
       "    <tr>\n",
       "      <th>0</th>\n",
       "      <td>1</td>\n",
       "    </tr>\n",
       "    <tr>\n",
       "      <th>1</th>\n",
       "      <td>2</td>\n",
       "    </tr>\n",
       "    <tr>\n",
       "      <th>2</th>\n",
       "      <td>3</td>\n",
       "    </tr>\n",
       "  </tbody>\n",
       "</table>\n",
       "</div>"
      ],
      "text/plain": [
       "   value\n",
       "0      1\n",
       "1      2\n",
       "2      3"
      ]
     },
     "execution_count": 14,
     "metadata": {},
     "output_type": "execute_result"
    }
   ],
   "source": [
    "# restore values from the dump\n",
    "pp.load_values(lits)\n",
    "pp.a._value"
   ]
  },
  {
   "cell_type": "code",
   "execution_count": null,
   "id": "03fa892c",
   "metadata": {},
   "outputs": [],
   "source": []
  },
  {
   "cell_type": "code",
   "execution_count": 14,
   "id": "8313c8fe",
   "metadata": {},
   "outputs": [],
   "source": [
    "# if you want to dump & restore the entire pype, including recalc logic & handlers:\n",
    "import dill  # not pickle, because lambdas\n",
    "\n",
    "with open('pype_p.dill', 'wb') as file:\n",
    "    dill.dump(pp, file)\n",
    "with open('pype_p.dill', 'rb') as inp:\n",
    "    pp2 = dill.load(inp)"
   ]
  },
  {
   "cell_type": "code",
   "execution_count": 16,
   "id": "6efd9eb5",
   "metadata": {},
   "outputs": [
    {
     "data": {
      "text/plain": [
       "[<cellopype.cell.Cell at 0x7fcc3000d370>,\n",
       " <cellopype.cell.Cell at 0x7fcc600d9880>]"
      ]
     },
     "execution_count": 16,
     "metadata": {},
     "output_type": "execute_result"
    }
   ],
   "source": [
    "# the pp2 pype is now a full & independent copy of pp\n",
    "pp2.c.sources"
   ]
  },
  {
   "cell_type": "code",
   "execution_count": 18,
   "id": "d2d63cc9",
   "metadata": {},
   "outputs": [
    {
     "data": {
      "text/html": [
       "<div>\n",
       "<style scoped>\n",
       "    .dataframe tbody tr th:only-of-type {\n",
       "        vertical-align: middle;\n",
       "    }\n",
       "\n",
       "    .dataframe tbody tr th {\n",
       "        vertical-align: top;\n",
       "    }\n",
       "\n",
       "    .dataframe thead th {\n",
       "        text-align: right;\n",
       "    }\n",
       "</style>\n",
       "<table border=\"1\" class=\"dataframe\">\n",
       "  <thead>\n",
       "    <tr style=\"text-align: right;\">\n",
       "      <th></th>\n",
       "      <th>value</th>\n",
       "    </tr>\n",
       "  </thead>\n",
       "  <tbody>\n",
       "    <tr>\n",
       "      <th>0</th>\n",
       "      <td>11</td>\n",
       "    </tr>\n",
       "    <tr>\n",
       "      <th>1</th>\n",
       "      <td>22</td>\n",
       "    </tr>\n",
       "    <tr>\n",
       "      <th>2</th>\n",
       "      <td>33</td>\n",
       "    </tr>\n",
       "  </tbody>\n",
       "</table>\n",
       "</div>"
      ],
      "text/plain": [
       "   value\n",
       "0     11\n",
       "1     22\n",
       "2     33"
      ]
     },
     "execution_count": 18,
     "metadata": {},
     "output_type": "execute_result"
    }
   ],
   "source": [
    "pp2.c.recalc_handler(pp2.a.value, pp2.b.value)"
   ]
  },
  {
   "cell_type": "code",
   "execution_count": null,
   "id": "bfe8e1b1",
   "metadata": {},
   "outputs": [],
   "source": []
  },
  {
   "cell_type": "code",
   "execution_count": 4,
   "id": "2905c917",
   "metadata": {},
   "outputs": [],
   "source": [
    "# new pype, with force recalc for all cells in this pype (lazy off) \n",
    "# only available on init (=before adding cells)\n",
    "ppp = Pype(force_unlazy=True)"
   ]
  },
  {
   "cell_type": "code",
   "execution_count": 15,
   "id": "b63591d7",
   "metadata": {},
   "outputs": [
    {
     "data": {
      "text/plain": [
       "True"
      ]
     },
     "execution_count": 15,
     "metadata": {},
     "output_type": "execute_result"
    }
   ],
   "source": [
    "ppp.force_unlazy"
   ]
  }
 ],
 "metadata": {
  "kernelspec": {
   "display_name": "Python [conda env:rolemining]",
   "language": "python",
   "name": "conda-env-rolemining-py"
  },
  "language_info": {
   "codemirror_mode": {
    "name": "ipython",
    "version": 3
   },
   "file_extension": ".py",
   "mimetype": "text/x-python",
   "name": "python",
   "nbconvert_exporter": "python",
   "pygments_lexer": "ipython3",
   "version": "3.8.5"
  }
 },
 "nbformat": 4,
 "nbformat_minor": 5
}
