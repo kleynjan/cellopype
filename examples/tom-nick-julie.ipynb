{
 "cells": [
  {
   "cell_type": "code",
   "execution_count": 1,
   "id": "a96cbf35",
   "metadata": {},
   "outputs": [],
   "source": [
    "import pandas as pd\n",
    "\n",
    "import sys\n",
    "sys.path.append('../src')\n",
    "from cellopype import Cell, Pype"
   ]
  },
  {
   "cell_type": "code",
   "execution_count": null,
   "id": "ed49ff23",
   "metadata": {},
   "outputs": [],
   "source": []
  },
  {
   "cell_type": "code",
   "execution_count": 3,
   "id": "2725f501",
   "metadata": {},
   "outputs": [],
   "source": [
    "df1 = pd.DataFrame([\n",
    "    ['tom', 10], ['nick', 15], ['julie', 14]], \n",
    "    columns=['name', 'age'])\n",
    "df2 = pd.DataFrame(\n",
    "    [['tom', 'USA'], ['nick', 'UK'], ['julie', 'France']], \n",
    "    columns=['name', 'country'])"
   ]
  },
  {
   "cell_type": "code",
   "execution_count": 4,
   "id": "8d42d8fb",
   "metadata": {
    "scrolled": true
   },
   "outputs": [
    {
     "data": {
      "text/html": [
       "<div>\n",
       "<style scoped>\n",
       "    .dataframe tbody tr th:only-of-type {\n",
       "        vertical-align: middle;\n",
       "    }\n",
       "\n",
       "    .dataframe tbody tr th {\n",
       "        vertical-align: top;\n",
       "    }\n",
       "\n",
       "    .dataframe thead th {\n",
       "        text-align: right;\n",
       "    }\n",
       "</style>\n",
       "<table border=\"1\" class=\"dataframe\">\n",
       "  <thead>\n",
       "    <tr style=\"text-align: right;\">\n",
       "      <th></th>\n",
       "      <th>name</th>\n",
       "      <th>age</th>\n",
       "    </tr>\n",
       "  </thead>\n",
       "  <tbody>\n",
       "    <tr>\n",
       "      <th>0</th>\n",
       "      <td>tom</td>\n",
       "      <td>10</td>\n",
       "    </tr>\n",
       "    <tr>\n",
       "      <th>1</th>\n",
       "      <td>nick</td>\n",
       "      <td>15</td>\n",
       "    </tr>\n",
       "    <tr>\n",
       "      <th>2</th>\n",
       "      <td>julie</td>\n",
       "      <td>14</td>\n",
       "    </tr>\n",
       "  </tbody>\n",
       "</table>\n",
       "</div>"
      ],
      "text/plain": [
       "    name  age\n",
       "0    tom   10\n",
       "1   nick   15\n",
       "2  julie   14"
      ]
     },
     "execution_count": 4,
     "metadata": {},
     "output_type": "execute_result"
    }
   ],
   "source": [
    "df1"
   ]
  },
  {
   "cell_type": "code",
   "execution_count": 5,
   "id": "69edbef5",
   "metadata": {},
   "outputs": [],
   "source": [
    "pp = Pype()"
   ]
  },
  {
   "cell_type": "code",
   "execution_count": 6,
   "id": "ca432067",
   "metadata": {},
   "outputs": [],
   "source": [
    "# 1. df1 & df2\n",
    "pp.df1 = Cell(recalc=lambda: df1)\n",
    "pp.df2 = Cell(recalc=lambda: df2)"
   ]
  },
  {
   "cell_type": "code",
   "execution_count": 8,
   "id": "44498424",
   "metadata": {},
   "outputs": [
    {
     "name": "stdout",
     "output_type": "stream",
     "text": [
      "df1 : True None\n",
      "df2 : True None\n"
     ]
    }
   ],
   "source": [
    "# repeat this to check status where necessary\n",
    "for c in ['df1','df2']:\n",
    "    cell = pp[c]\n",
    "    print(cell.name, \":\", cell._dirty, cell._value)"
   ]
  },
  {
   "cell_type": "code",
   "execution_count": 9,
   "id": "91d88f60",
   "metadata": {},
   "outputs": [],
   "source": [
    "# 2. above_ten: first derived cell\n",
    "# above_ten := df1_cell where age > 10\n",
    "def recalc(df1):\n",
    "    return( df1\n",
    "        .assign(done=True)\n",
    "        .query(\"age>10\")\n",
    "    )\n",
    "pp.above_ten = Cell(recalc=recalc, sources=[pp.df1])\n",
    "pp.above_ten._value    # lazy eval, so no _value yet"
   ]
  },
  {
   "cell_type": "code",
   "execution_count": 10,
   "id": "e65e3403",
   "metadata": {},
   "outputs": [
    {
     "data": {
      "text/html": [
       "<div>\n",
       "<style scoped>\n",
       "    .dataframe tbody tr th:only-of-type {\n",
       "        vertical-align: middle;\n",
       "    }\n",
       "\n",
       "    .dataframe tbody tr th {\n",
       "        vertical-align: top;\n",
       "    }\n",
       "\n",
       "    .dataframe thead th {\n",
       "        text-align: right;\n",
       "    }\n",
       "</style>\n",
       "<table border=\"1\" class=\"dataframe\">\n",
       "  <thead>\n",
       "    <tr style=\"text-align: right;\">\n",
       "      <th></th>\n",
       "      <th>name</th>\n",
       "      <th>age</th>\n",
       "      <th>done</th>\n",
       "      <th>country</th>\n",
       "    </tr>\n",
       "  </thead>\n",
       "  <tbody>\n",
       "    <tr>\n",
       "      <th>0</th>\n",
       "      <td>nick</td>\n",
       "      <td>15</td>\n",
       "      <td>True</td>\n",
       "      <td>UK</td>\n",
       "    </tr>\n",
       "  </tbody>\n",
       "</table>\n",
       "</div>"
      ],
      "text/plain": [
       "   name  age  done country\n",
       "0  nick   15  True      UK"
      ]
     },
     "execution_count": 10,
     "metadata": {},
     "output_type": "execute_result"
    }
   ],
   "source": [
    "# 3. UK_above_ten: second derived cell\n",
    "# UK_above_ten := above_ten merged with df2_cell where country==UK \n",
    "def recalc(above_ten, df2):\n",
    "    return( above_ten\n",
    "        .merge(df2)\n",
    "        .fillna('')\n",
    "        .query(\"country=='UK'\")\n",
    "    )\n",
    "pp.UK_above_ten = Cell(recalc=recalc, sources=[pp.above_ten, pp.df2])\n",
    "pp.UK_above_ten.value     # = value() : trigger evaluation"
   ]
  },
  {
   "cell_type": "code",
   "execution_count": 11,
   "id": "84495826",
   "metadata": {},
   "outputs": [
    {
     "data": {
      "text/html": [
       "<div>\n",
       "<style scoped>\n",
       "    .dataframe tbody tr th:only-of-type {\n",
       "        vertical-align: middle;\n",
       "    }\n",
       "\n",
       "    .dataframe tbody tr th {\n",
       "        vertical-align: top;\n",
       "    }\n",
       "\n",
       "    .dataframe thead th {\n",
       "        text-align: right;\n",
       "    }\n",
       "</style>\n",
       "<table border=\"1\" class=\"dataframe\">\n",
       "  <thead>\n",
       "    <tr style=\"text-align: right;\">\n",
       "      <th></th>\n",
       "      <th>name</th>\n",
       "      <th>country</th>\n",
       "    </tr>\n",
       "  </thead>\n",
       "  <tbody>\n",
       "    <tr>\n",
       "      <th>0</th>\n",
       "      <td>tom</td>\n",
       "      <td>USA</td>\n",
       "    </tr>\n",
       "    <tr>\n",
       "      <th>1</th>\n",
       "      <td>nick</td>\n",
       "      <td>UK</td>\n",
       "    </tr>\n",
       "    <tr>\n",
       "      <th>2</th>\n",
       "      <td>julie</td>\n",
       "      <td>France</td>\n",
       "    </tr>\n",
       "  </tbody>\n",
       "</table>\n",
       "</div>"
      ],
      "text/plain": [
       "    name country\n",
       "0    tom     USA\n",
       "1   nick      UK\n",
       "2  julie  France"
      ]
     },
     "execution_count": 11,
     "metadata": {},
     "output_type": "execute_result"
    }
   ],
   "source": [
    "# p.df2._value has a value now\n",
    "pp.df2._value"
   ]
  },
  {
   "cell_type": "code",
   "execution_count": 12,
   "id": "77687418",
   "metadata": {},
   "outputs": [],
   "source": [
    "df1.loc[1,'age']=12\n",
    "pp.df1.invalidate()\n",
    "# all depending cells invalidated -> dirty: True"
   ]
  },
  {
   "cell_type": "code",
   "execution_count": 13,
   "id": "8d55cc31",
   "metadata": {},
   "outputs": [
    {
     "data": {
      "text/plain": [
       "True"
      ]
     },
     "execution_count": 13,
     "metadata": {},
     "output_type": "execute_result"
    }
   ],
   "source": [
    "pp.above_ten._dirty"
   ]
  },
  {
   "cell_type": "code",
   "execution_count": 14,
   "id": "8e9b4fef",
   "metadata": {},
   "outputs": [
    {
     "data": {
      "text/html": [
       "<div>\n",
       "<style scoped>\n",
       "    .dataframe tbody tr th:only-of-type {\n",
       "        vertical-align: middle;\n",
       "    }\n",
       "\n",
       "    .dataframe tbody tr th {\n",
       "        vertical-align: top;\n",
       "    }\n",
       "\n",
       "    .dataframe thead th {\n",
       "        text-align: right;\n",
       "    }\n",
       "</style>\n",
       "<table border=\"1\" class=\"dataframe\">\n",
       "  <thead>\n",
       "    <tr style=\"text-align: right;\">\n",
       "      <th></th>\n",
       "      <th>name</th>\n",
       "      <th>age</th>\n",
       "      <th>done</th>\n",
       "      <th>country</th>\n",
       "    </tr>\n",
       "  </thead>\n",
       "  <tbody>\n",
       "    <tr>\n",
       "      <th>0</th>\n",
       "      <td>nick</td>\n",
       "      <td>12</td>\n",
       "      <td>True</td>\n",
       "      <td>UK</td>\n",
       "    </tr>\n",
       "  </tbody>\n",
       "</table>\n",
       "</div>"
      ],
      "text/plain": [
       "   name  age  done country\n",
       "0  nick   12  True      UK"
      ]
     },
     "execution_count": 14,
     "metadata": {},
     "output_type": "execute_result"
    }
   ],
   "source": [
    "pp.UK_above_ten.value"
   ]
  },
  {
   "cell_type": "code",
   "execution_count": null,
   "id": "8fed41dd",
   "metadata": {},
   "outputs": [],
   "source": []
  }
 ],
 "metadata": {
  "kernelspec": {
   "display_name": "rolemining",
   "language": "python",
   "name": "rolemining"
  },
  "language_info": {
   "codemirror_mode": {
    "name": "ipython",
    "version": 3
   },
   "file_extension": ".py",
   "mimetype": "text/x-python",
   "name": "python",
   "nbconvert_exporter": "python",
   "pygments_lexer": "ipython3",
   "version": "3.8.5"
  }
 },
 "nbformat": 4,
 "nbformat_minor": 5
}
