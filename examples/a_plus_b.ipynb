{
 "cells": [
  {
   "cell_type": "code",
   "execution_count": 1,
   "id": "25898bd5",
   "metadata": {},
   "outputs": [],
   "source": [
    "import pandas as pd\n",
    "import sys\n",
    "sys.path.append('../src')\n",
    "\n",
    "from cellopype import Cell"
   ]
  },
  {
   "cell_type": "code",
   "execution_count": 6,
   "id": "f01858f8",
   "metadata": {},
   "outputs": [],
   "source": [
    "# example from https://stackoverflow.com/questions/62671185\n",
    "dfA = pd.DataFrame([1, 2, 3], columns=[\"value\"])\n",
    "dfB = pd.DataFrame([10, 20, 30], columns=[\"value\"])\n",
    "\n",
    "cell_a = Cell(recalc=lambda: dfA)\n",
    "cell_b = Cell(recalc=lambda: dfB)\n",
    "\n",
    "# define cell_c as the sum of a and b\n",
    "def plus(a, b):\n",
    "    return a+b\n",
    "    # return pd.DataFrame(a + b)\n",
    "cell_c = Cell(recalc=plus, sources=[cell_a, cell_b])"
   ]
  },
  {
   "cell_type": "code",
   "execution_count": 7,
   "id": "f20a765e",
   "metadata": {},
   "outputs": [
    {
     "name": "stdout",
     "output_type": "stream",
     "text": [
      "cell_a: True None\n",
      "cell_c: True None\n"
     ]
    }
   ],
   "source": [
    "# cell_a and cell_c havebeen initialized; they are '_dirty', but have no value yet\n",
    "print('cell_a:', cell_a._dirty, cell_a._value)\n",
    "print('cell_c:', cell_c._dirty, cell_c._value)"
   ]
  },
  {
   "cell_type": "code",
   "execution_count": 8,
   "id": "321d4611",
   "metadata": {},
   "outputs": [
    {
     "data": {
      "text/html": [
       "<div>\n",
       "<style scoped>\n",
       "    .dataframe tbody tr th:only-of-type {\n",
       "        vertical-align: middle;\n",
       "    }\n",
       "\n",
       "    .dataframe tbody tr th {\n",
       "        vertical-align: top;\n",
       "    }\n",
       "\n",
       "    .dataframe thead th {\n",
       "        text-align: right;\n",
       "    }\n",
       "</style>\n",
       "<table border=\"1\" class=\"dataframe\">\n",
       "  <thead>\n",
       "    <tr style=\"text-align: right;\">\n",
       "      <th></th>\n",
       "      <th>value</th>\n",
       "    </tr>\n",
       "  </thead>\n",
       "  <tbody>\n",
       "    <tr>\n",
       "      <th>0</th>\n",
       "      <td>11</td>\n",
       "    </tr>\n",
       "    <tr>\n",
       "      <th>1</th>\n",
       "      <td>22</td>\n",
       "    </tr>\n",
       "    <tr>\n",
       "      <th>2</th>\n",
       "      <td>33</td>\n",
       "    </tr>\n",
       "  </tbody>\n",
       "</table>\n",
       "</div>"
      ],
      "text/plain": [
       "   value\n",
       "0     11\n",
       "1     22\n",
       "2     33"
      ]
     },
     "execution_count": 8,
     "metadata": {},
     "output_type": "execute_result"
    }
   ],
   "source": [
    "# c.value getter triggers recalc c -> triggers recalc of a & b\")\n",
    "cell_c.value"
   ]
  },
  {
   "cell_type": "code",
   "execution_count": 5,
   "id": "4d578220",
   "metadata": {},
   "outputs": [
    {
     "data": {
      "text/html": [
       "<div>\n",
       "<style scoped>\n",
       "    .dataframe tbody tr th:only-of-type {\n",
       "        vertical-align: middle;\n",
       "    }\n",
       "\n",
       "    .dataframe tbody tr th {\n",
       "        vertical-align: top;\n",
       "    }\n",
       "\n",
       "    .dataframe thead th {\n",
       "        text-align: right;\n",
       "    }\n",
       "</style>\n",
       "<table border=\"1\" class=\"dataframe\">\n",
       "  <thead>\n",
       "    <tr style=\"text-align: right;\">\n",
       "      <th></th>\n",
       "      <th>value</th>\n",
       "    </tr>\n",
       "  </thead>\n",
       "  <tbody>\n",
       "    <tr>\n",
       "      <th>0</th>\n",
       "      <td>1</td>\n",
       "    </tr>\n",
       "    <tr>\n",
       "      <th>1</th>\n",
       "      <td>2</td>\n",
       "    </tr>\n",
       "    <tr>\n",
       "      <th>2</th>\n",
       "      <td>3</td>\n",
       "    </tr>\n",
       "  </tbody>\n",
       "</table>\n",
       "</div>"
      ],
      "text/plain": [
       "   value\n",
       "0      1\n",
       "1      2\n",
       "2      3"
      ]
     },
     "execution_count": 5,
     "metadata": {},
     "output_type": "execute_result"
    }
   ],
   "source": [
    "# cell_a now has value\n",
    "cell_a._value"
   ]
  },
  {
   "cell_type": "code",
   "execution_count": 6,
   "id": "1986a73c",
   "metadata": {},
   "outputs": [],
   "source": [
    "# Change source value in dfA and invalidate cell_a\n",
    "dfA.loc[0, \"value\"] = 222\n",
    "cell_a.value = dfA   # or: cell_a.recalc()"
   ]
  },
  {
   "cell_type": "code",
   "execution_count": 7,
   "id": "9de19e53",
   "metadata": {},
   "outputs": [
    {
     "data": {
      "text/plain": [
       "False"
      ]
     },
     "execution_count": 7,
     "metadata": {},
     "output_type": "execute_result"
    }
   ],
   "source": [
    "cell_a._dirty"
   ]
  },
  {
   "cell_type": "code",
   "execution_count": 27,
   "id": "4a452b61",
   "metadata": {},
   "outputs": [
    {
     "data": {
      "text/html": [
       "<div>\n",
       "<style scoped>\n",
       "    .dataframe tbody tr th:only-of-type {\n",
       "        vertical-align: middle;\n",
       "    }\n",
       "\n",
       "    .dataframe tbody tr th {\n",
       "        vertical-align: top;\n",
       "    }\n",
       "\n",
       "    .dataframe thead th {\n",
       "        text-align: right;\n",
       "    }\n",
       "</style>\n",
       "<table border=\"1\" class=\"dataframe\">\n",
       "  <thead>\n",
       "    <tr style=\"text-align: right;\">\n",
       "      <th></th>\n",
       "      <th>value</th>\n",
       "    </tr>\n",
       "  </thead>\n",
       "  <tbody>\n",
       "    <tr>\n",
       "      <th>0</th>\n",
       "      <td>232</td>\n",
       "    </tr>\n",
       "    <tr>\n",
       "      <th>1</th>\n",
       "      <td>22</td>\n",
       "    </tr>\n",
       "    <tr>\n",
       "      <th>2</th>\n",
       "      <td>33</td>\n",
       "    </tr>\n",
       "  </tbody>\n",
       "</table>\n",
       "</div>"
      ],
      "text/plain": [
       "   value\n",
       "0    232\n",
       "1     22\n",
       "2     33"
      ]
     },
     "execution_count": 27,
     "metadata": {},
     "output_type": "execute_result"
    }
   ],
   "source": [
    "# Getting cell_c.value will trigger recalc across the pipeline:\n",
    "cell_c.value"
   ]
  },
  {
   "cell_type": "code",
   "execution_count": null,
   "id": "0e73c544",
   "metadata": {},
   "outputs": [],
   "source": []
  },
  {
   "cell_type": "code",
   "execution_count": 28,
   "id": "7ccc0fbd",
   "metadata": {},
   "outputs": [],
   "source": [
    "la = {'aap': 1 }\n",
    "lb = { 'noot': 3, 'mies': 5}\n",
    "cell_a = Cell(recalc=lambda: la)\n",
    "cell_b = Cell(recalc=lambda: lb)\n",
    "def recalc_fnl(a, b):\n",
    "    res = 0\n",
    "    for d in [a,b]:\n",
    "        for k,v in d.items():\n",
    "            res += v\n",
    "    return res\n",
    "cell_c = Cell(recalc=recalc_fnl, sources=[cell_a,cell_b])"
   ]
  },
  {
   "cell_type": "code",
   "execution_count": 29,
   "id": "b53986a5",
   "metadata": {},
   "outputs": [],
   "source": [
    "cell_a._value"
   ]
  },
  {
   "cell_type": "code",
   "execution_count": 30,
   "id": "8e07992f",
   "metadata": {},
   "outputs": [
    {
     "data": {
      "text/plain": [
       "{'aap': 1}"
      ]
     },
     "execution_count": 30,
     "metadata": {},
     "output_type": "execute_result"
    }
   ],
   "source": [
    "cell_a.value"
   ]
  },
  {
   "cell_type": "code",
   "execution_count": 19,
   "id": "2412aefd",
   "metadata": {},
   "outputs": [
    {
     "data": {
      "text/plain": [
       "9"
      ]
     },
     "execution_count": 19,
     "metadata": {},
     "output_type": "execute_result"
    }
   ],
   "source": [
    "cell_c.value"
   ]
  },
  {
   "cell_type": "code",
   "execution_count": null,
   "id": "32729e65",
   "metadata": {},
   "outputs": [],
   "source": []
  }
 ],
 "metadata": {
  "kernelspec": {
   "display_name": "rolemining",
   "language": "python",
   "name": "rolemining"
  },
  "language_info": {
   "codemirror_mode": {
    "name": "ipython",
    "version": 3
   },
   "file_extension": ".py",
   "mimetype": "text/x-python",
   "name": "python",
   "nbconvert_exporter": "python",
   "pygments_lexer": "ipython3",
   "version": "3.8.5"
  }
 },
 "nbformat": 4,
 "nbformat_minor": 5
}
