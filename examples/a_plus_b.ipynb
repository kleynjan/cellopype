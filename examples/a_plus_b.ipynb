{
 "cells": [
  {
   "cell_type": "code",
   "execution_count": 3,
   "id": "given-federation",
   "metadata": {},
   "outputs": [],
   "source": [
    "import pandas as pd\n",
    "from cellopype import Cell"
   ]
  },
  {
   "cell_type": "code",
   "execution_count": 4,
   "id": "whole-miami",
   "metadata": {},
   "outputs": [
    {
     "name": "stdout",
     "output_type": "stream",
     "text": [
      "None\n",
      "[1, 2, 3, 4, 5, 6]\n",
      "[1, 2, 3, 99, 4, 5, 6]\n"
     ]
    }
   ],
   "source": [
    "## minimal example\n",
    "l1 = [1,2,3]\n",
    "l2 = [4,5,6]\n",
    "cell_1 = Cell(recalc=lambda: l1.copy())\n",
    "cell_2 = Cell(recalc=lambda: l2.copy())\n",
    "cell_3 = Cell(recalc=lambda a,b: a+b, sources=[cell_1,cell_2])\n",
    "\n",
    "print(cell_1._value)  # nothing yet\n",
    "print(cell_3.value)   # this triggers recalc\n",
    "\n",
    "l1.append(99)\n",
    "cell_1.recalc()\n",
    "print(cell_3.value)"
   ]
  },
  {
   "cell_type": "code",
   "execution_count": null,
   "id": "promotional-glory",
   "metadata": {},
   "outputs": [],
   "source": []
  },
  {
   "cell_type": "code",
   "execution_count": null,
   "id": "american-maple",
   "metadata": {},
   "outputs": [],
   "source": [
    "## An example with three dataframes"
   ]
  },
  {
   "cell_type": "code",
   "execution_count": 10,
   "id": "figured-faith",
   "metadata": {},
   "outputs": [],
   "source": [
    "# example from https://stackoverflow.com/questions/62671185\n",
    "dfA = pd.DataFrame([1, 2, 3], columns=[\"value\"])\n",
    "dfB = pd.DataFrame([10, 20, 30], columns=[\"value\"])\n",
    "\n",
    "cell_a = Cell(recalc=lambda: dfA)\n",
    "cell_b = Cell(recalc=lambda: dfB)\n",
    "\n",
    "# define cell_c as the sum of a and b\n",
    "def recalc_fn(a, b):\n",
    "    return a.add(b)\n",
    "    # return pd.DataFrame(a + b)\n",
    "cell_c = Cell(recalc=recalc_fn, sources=[cell_a, cell_b])"
   ]
  },
  {
   "cell_type": "code",
   "execution_count": 11,
   "id": "solar-chocolate",
   "metadata": {},
   "outputs": [
    {
     "name": "stdout",
     "output_type": "stream",
     "text": [
      "cell_a: True None\n",
      "cell_c: True None\n"
     ]
    }
   ],
   "source": [
    "# cell_a and cell_c havebeen initialized; they are '_dirty', but have no value yet\n",
    "print('cell_a:', cell_a._dirty, cell_a._value)\n",
    "print('cell_c:', cell_c._dirty, cell_c._value)"
   ]
  },
  {
   "cell_type": "code",
   "execution_count": 12,
   "id": "ordered-birthday",
   "metadata": {},
   "outputs": [
    {
     "data": {
      "text/html": [
       "<div>\n",
       "<style scoped>\n",
       "    .dataframe tbody tr th:only-of-type {\n",
       "        vertical-align: middle;\n",
       "    }\n",
       "\n",
       "    .dataframe tbody tr th {\n",
       "        vertical-align: top;\n",
       "    }\n",
       "\n",
       "    .dataframe thead th {\n",
       "        text-align: right;\n",
       "    }\n",
       "</style>\n",
       "<table border=\"1\" class=\"dataframe\">\n",
       "  <thead>\n",
       "    <tr style=\"text-align: right;\">\n",
       "      <th></th>\n",
       "      <th>value</th>\n",
       "    </tr>\n",
       "  </thead>\n",
       "  <tbody>\n",
       "    <tr>\n",
       "      <th>0</th>\n",
       "      <td>11</td>\n",
       "    </tr>\n",
       "    <tr>\n",
       "      <th>1</th>\n",
       "      <td>22</td>\n",
       "    </tr>\n",
       "    <tr>\n",
       "      <th>2</th>\n",
       "      <td>33</td>\n",
       "    </tr>\n",
       "  </tbody>\n",
       "</table>\n",
       "</div>"
      ],
      "text/plain": [
       "   value\n",
       "0     11\n",
       "1     22\n",
       "2     33"
      ]
     },
     "execution_count": 12,
     "metadata": {},
     "output_type": "execute_result"
    }
   ],
   "source": [
    "# c.value getter triggers recalc c -> triggers recalc of a & b\")\n",
    "cell_c.value"
   ]
  },
  {
   "cell_type": "code",
   "execution_count": 13,
   "id": "trained-honey",
   "metadata": {},
   "outputs": [
    {
     "data": {
      "text/html": [
       "<div>\n",
       "<style scoped>\n",
       "    .dataframe tbody tr th:only-of-type {\n",
       "        vertical-align: middle;\n",
       "    }\n",
       "\n",
       "    .dataframe tbody tr th {\n",
       "        vertical-align: top;\n",
       "    }\n",
       "\n",
       "    .dataframe thead th {\n",
       "        text-align: right;\n",
       "    }\n",
       "</style>\n",
       "<table border=\"1\" class=\"dataframe\">\n",
       "  <thead>\n",
       "    <tr style=\"text-align: right;\">\n",
       "      <th></th>\n",
       "      <th>value</th>\n",
       "    </tr>\n",
       "  </thead>\n",
       "  <tbody>\n",
       "    <tr>\n",
       "      <th>0</th>\n",
       "      <td>1</td>\n",
       "    </tr>\n",
       "    <tr>\n",
       "      <th>1</th>\n",
       "      <td>2</td>\n",
       "    </tr>\n",
       "    <tr>\n",
       "      <th>2</th>\n",
       "      <td>3</td>\n",
       "    </tr>\n",
       "  </tbody>\n",
       "</table>\n",
       "</div>"
      ],
      "text/plain": [
       "   value\n",
       "0      1\n",
       "1      2\n",
       "2      3"
      ]
     },
     "execution_count": 13,
     "metadata": {},
     "output_type": "execute_result"
    }
   ],
   "source": [
    "# cell_a now has value\n",
    "cell_a._value"
   ]
  },
  {
   "cell_type": "code",
   "execution_count": 14,
   "id": "seven-hostel",
   "metadata": {},
   "outputs": [],
   "source": [
    "# Change source value in dfA and invalidate cell_a\n",
    "dfA.loc[0, \"value\"] = 222\n",
    "cell_a.invalidate()  # or cell_a.recalc(), or cell_a.value=dfA"
   ]
  },
  {
   "cell_type": "code",
   "execution_count": 15,
   "id": "dependent-advertising",
   "metadata": {},
   "outputs": [
    {
     "data": {
      "text/html": [
       "<div>\n",
       "<style scoped>\n",
       "    .dataframe tbody tr th:only-of-type {\n",
       "        vertical-align: middle;\n",
       "    }\n",
       "\n",
       "    .dataframe tbody tr th {\n",
       "        vertical-align: top;\n",
       "    }\n",
       "\n",
       "    .dataframe thead th {\n",
       "        text-align: right;\n",
       "    }\n",
       "</style>\n",
       "<table border=\"1\" class=\"dataframe\">\n",
       "  <thead>\n",
       "    <tr style=\"text-align: right;\">\n",
       "      <th></th>\n",
       "      <th>value</th>\n",
       "    </tr>\n",
       "  </thead>\n",
       "  <tbody>\n",
       "    <tr>\n",
       "      <th>0</th>\n",
       "      <td>222</td>\n",
       "    </tr>\n",
       "    <tr>\n",
       "      <th>1</th>\n",
       "      <td>2</td>\n",
       "    </tr>\n",
       "    <tr>\n",
       "      <th>2</th>\n",
       "      <td>3</td>\n",
       "    </tr>\n",
       "  </tbody>\n",
       "</table>\n",
       "</div>"
      ],
      "text/plain": [
       "   value\n",
       "0    222\n",
       "1      2\n",
       "2      3"
      ]
     },
     "execution_count": 15,
     "metadata": {},
     "output_type": "execute_result"
    }
   ],
   "source": [
    "cell_a._value"
   ]
  },
  {
   "cell_type": "code",
   "execution_count": 16,
   "id": "genetic-gateway",
   "metadata": {},
   "outputs": [
    {
     "data": {
      "text/html": [
       "<div>\n",
       "<style scoped>\n",
       "    .dataframe tbody tr th:only-of-type {\n",
       "        vertical-align: middle;\n",
       "    }\n",
       "\n",
       "    .dataframe tbody tr th {\n",
       "        vertical-align: top;\n",
       "    }\n",
       "\n",
       "    .dataframe thead th {\n",
       "        text-align: right;\n",
       "    }\n",
       "</style>\n",
       "<table border=\"1\" class=\"dataframe\">\n",
       "  <thead>\n",
       "    <tr style=\"text-align: right;\">\n",
       "      <th></th>\n",
       "      <th>value</th>\n",
       "    </tr>\n",
       "  </thead>\n",
       "  <tbody>\n",
       "    <tr>\n",
       "      <th>0</th>\n",
       "      <td>232</td>\n",
       "    </tr>\n",
       "    <tr>\n",
       "      <th>1</th>\n",
       "      <td>22</td>\n",
       "    </tr>\n",
       "    <tr>\n",
       "      <th>2</th>\n",
       "      <td>33</td>\n",
       "    </tr>\n",
       "  </tbody>\n",
       "</table>\n",
       "</div>"
      ],
      "text/plain": [
       "   value\n",
       "0    232\n",
       "1     22\n",
       "2     33"
      ]
     },
     "execution_count": 16,
     "metadata": {},
     "output_type": "execute_result"
    }
   ],
   "source": [
    "# Getting cell_c.value will trigger recalc across the pipeline:\n",
    "cell_c.value"
   ]
  },
  {
   "cell_type": "code",
   "execution_count": 17,
   "id": "hourly-monroe",
   "metadata": {},
   "outputs": [
    {
     "data": {
      "text/plain": [
       "<module 'pandas' from '/Users/peter/opt/miniconda3/envs/rolemining/lib/python3.8/site-packages/pandas/__init__.py'>"
      ]
     },
     "execution_count": 17,
     "metadata": {},
     "output_type": "execute_result"
    }
   ],
   "source": [
    "pd"
   ]
  },
  {
   "cell_type": "code",
   "execution_count": 19,
   "id": "hollow-patrol",
   "metadata": {},
   "outputs": [
    {
     "data": {
      "text/plain": [
       "False"
      ]
     },
     "execution_count": 19,
     "metadata": {},
     "output_type": "execute_result"
    }
   ],
   "source": [
    "import sys\n",
    "'pandas' in sys.modules"
   ]
  },
  {
   "cell_type": "code",
   "execution_count": null,
   "id": "continental-season",
   "metadata": {},
   "outputs": [],
   "source": []
  }
 ],
 "metadata": {
  "kernelspec": {
   "display_name": "rolemining",
   "language": "python",
   "name": "rolemining"
  },
  "language_info": {
   "codemirror_mode": {
    "name": "ipython",
    "version": 3
   },
   "file_extension": ".py",
   "mimetype": "text/x-python",
   "name": "python",
   "nbconvert_exporter": "python",
   "pygments_lexer": "ipython3",
   "version": "3.8.5"
  }
 },
 "nbformat": 4,
 "nbformat_minor": 5
}
